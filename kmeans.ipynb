{
 "cells": [
  {
   "cell_type": "code",
   "execution_count": 1,
   "metadata": {},
   "outputs": [],
   "source": [
    "import findspark\n",
    "findspark.init(\"/opt/spark\")\n",
    "\n",
    "from pyspark import SparkContext\n",
    "import findspark\n",
    "import pyspark\n",
    "import random\n",
    "import numpy as np\n",
    "from PIL import Image\n",
    "from pyspark.sql import SparkSession \n",
    "import sys"
   ]
  },
  {
   "cell_type": "code",
   "execution_count": 2,
   "metadata": {},
   "outputs": [
    {
     "name": "stderr",
     "output_type": "stream",
     "text": [
      "22/06/30 04:41:57 WARN NativeCodeLoader: Unable to load native-hadoop library for your platform... using builtin-java classes where applicable\n",
      "Using Spark's default log4j profile: org/apache/spark/log4j-defaults.properties\n",
      "Setting default log level to \"WARN\".\n",
      "To adjust logging level use sc.setLogLevel(newLevel). For SparkR, use setLogLevel(newLevel).\n"
     ]
    }
   ],
   "source": [
    "spark = SparkSession \\\n",
    "    .builder \\\n",
    "    .appName(\"Python Spark SQL basic example\") \\\n",
    "    .getOrCreate()"
   ]
  },
  {
   "cell_type": "code",
   "execution_count": 3,
   "metadata": {},
   "outputs": [
    {
     "name": "stderr",
     "output_type": "stream",
     "text": [
      "                                                                                \r"
     ]
    }
   ],
   "source": [
    "df = spark.read.csv('./iris.csv', header=True, inferSchema=True)"
   ]
  },
  {
   "cell_type": "code",
   "execution_count": 4,
   "metadata": {},
   "outputs": [
    {
     "name": "stdout",
     "output_type": "stream",
     "text": [
      "root\n",
      " |-- sepalLength: double (nullable = true)\n",
      " |-- sepalWidth: double (nullable = true)\n",
      " |-- petalLength: double (nullable = true)\n",
      " |-- petalWidth: double (nullable = true)\n",
      " |-- variety: string (nullable = true)\n",
      "\n"
     ]
    }
   ],
   "source": [
    "df.printSchema()"
   ]
  },
  {
   "cell_type": "code",
   "execution_count": 12,
   "metadata": {},
   "outputs": [],
   "source": [
    "from pyspark.ml.linalg import Vector\n",
    "from pyspark.ml.feature import VectorAssembler\n",
    "from pyspark.ml.clustering import KMeans\n",
    "from pyspark.ml.evaluation import ClusteringEvaluator"
   ]
  },
  {
   "cell_type": "code",
   "execution_count": 6,
   "metadata": {},
   "outputs": [],
   "source": [
    "input_cols = df.columns"
   ]
  },
  {
   "cell_type": "code",
   "execution_count": 7,
   "metadata": {},
   "outputs": [
    {
     "data": {
      "text/plain": [
       "['sepalLength', 'sepalWidth', 'petalLength', 'petalWidth', 'variety']"
      ]
     },
     "execution_count": 7,
     "metadata": {},
     "output_type": "execute_result"
    }
   ],
   "source": [
    "input_cols"
   ]
  },
  {
   "cell_type": "code",
   "execution_count": 8,
   "metadata": {},
   "outputs": [],
   "source": [
    "vec_assembler = VectorAssembler(inputCols=input_cols[:-1], outputCol=\"features\")"
   ]
  },
  {
   "cell_type": "code",
   "execution_count": 9,
   "metadata": {},
   "outputs": [],
   "source": [
    "final_data = vec_assembler.transform(df)"
   ]
  },
  {
   "cell_type": "code",
   "execution_count": 15,
   "metadata": {},
   "outputs": [],
   "source": [
    "kmeans = KMeans(k=3,featuresCol=\"features\")"
   ]
  },
  {
   "cell_type": "code",
   "execution_count": 16,
   "metadata": {},
   "outputs": [
    {
     "name": "stderr",
     "output_type": "stream",
     "text": [
      "                                                                                \r"
     ]
    }
   ],
   "source": [
    "model = kmeans.fit(final_data)"
   ]
  },
  {
   "cell_type": "code",
   "execution_count": 18,
   "metadata": {},
   "outputs": [
    {
     "data": {
      "text/plain": [
       "KMeansModel: uid=KMeans_bea20945bdd5, k=3, distanceMeasure=euclidean, numFeatures=4"
      ]
     },
     "execution_count": 18,
     "metadata": {},
     "output_type": "execute_result"
    }
   ],
   "source": [
    "model"
   ]
  },
  {
   "cell_type": "code",
   "execution_count": 17,
   "metadata": {},
   "outputs": [
    {
     "name": "stdout",
     "output_type": "stream",
     "text": [
      "+----------+-----+\n",
      "|prediction|count|\n",
      "+----------+-----+\n",
      "|         1|   50|\n",
      "|         2|   61|\n",
      "|         0|   39|\n",
      "+----------+-----+\n",
      "\n"
     ]
    }
   ],
   "source": [
    "model.transform(final_data).groupBy(\"prediction\").count().show()"
   ]
  },
  {
   "cell_type": "code",
   "execution_count": 19,
   "metadata": {},
   "outputs": [
    {
     "name": "stdout",
     "output_type": "stream",
     "text": [
      "+-----------+----------+-----------+----------+-------+-----------------+----------+\n",
      "|sepalLength|sepalWidth|petalLength|petalWidth|variety|         features|prediction|\n",
      "+-----------+----------+-----------+----------+-------+-----------------+----------+\n",
      "|        5.1|       3.5|        1.4|       0.2| Setosa|[5.1,3.5,1.4,0.2]|         1|\n",
      "|        4.9|       3.0|        1.4|       0.2| Setosa|[4.9,3.0,1.4,0.2]|         1|\n",
      "|        4.7|       3.2|        1.3|       0.2| Setosa|[4.7,3.2,1.3,0.2]|         1|\n",
      "|        4.6|       3.1|        1.5|       0.2| Setosa|[4.6,3.1,1.5,0.2]|         1|\n",
      "|        5.0|       3.6|        1.4|       0.2| Setosa|[5.0,3.6,1.4,0.2]|         1|\n",
      "|        5.4|       3.9|        1.7|       0.4| Setosa|[5.4,3.9,1.7,0.4]|         1|\n",
      "|        4.6|       3.4|        1.4|       0.3| Setosa|[4.6,3.4,1.4,0.3]|         1|\n",
      "|        5.0|       3.4|        1.5|       0.2| Setosa|[5.0,3.4,1.5,0.2]|         1|\n",
      "|        4.4|       2.9|        1.4|       0.2| Setosa|[4.4,2.9,1.4,0.2]|         1|\n",
      "|        4.9|       3.1|        1.5|       0.1| Setosa|[4.9,3.1,1.5,0.1]|         1|\n",
      "|        5.4|       3.7|        1.5|       0.2| Setosa|[5.4,3.7,1.5,0.2]|         1|\n",
      "|        4.8|       3.4|        1.6|       0.2| Setosa|[4.8,3.4,1.6,0.2]|         1|\n",
      "|        4.8|       3.0|        1.4|       0.1| Setosa|[4.8,3.0,1.4,0.1]|         1|\n",
      "|        4.3|       3.0|        1.1|       0.1| Setosa|[4.3,3.0,1.1,0.1]|         1|\n",
      "|        5.8|       4.0|        1.2|       0.2| Setosa|[5.8,4.0,1.2,0.2]|         1|\n",
      "|        5.7|       4.4|        1.5|       0.4| Setosa|[5.7,4.4,1.5,0.4]|         1|\n",
      "|        5.4|       3.9|        1.3|       0.4| Setosa|[5.4,3.9,1.3,0.4]|         1|\n",
      "|        5.1|       3.5|        1.4|       0.3| Setosa|[5.1,3.5,1.4,0.3]|         1|\n",
      "|        5.7|       3.8|        1.7|       0.3| Setosa|[5.7,3.8,1.7,0.3]|         1|\n",
      "|        5.1|       3.8|        1.5|       0.3| Setosa|[5.1,3.8,1.5,0.3]|         1|\n",
      "+-----------+----------+-----------+----------+-------+-----------------+----------+\n",
      "only showing top 20 rows\n",
      "\n"
     ]
    }
   ],
   "source": [
    "predictions = model.transform(final_data)\n",
    "predictions.show()"
   ]
  },
  {
   "cell_type": "code",
   "execution_count": 21,
   "metadata": {},
   "outputs": [
    {
     "name": "stdout",
     "output_type": "stream",
     "text": [
      "+----------+----------+-----+\n",
      "|   variety|prediction|count|\n",
      "+----------+----------+-----+\n",
      "|Versicolor|         0|    3|\n",
      "|Versicolor|         2|   47|\n",
      "| Virginica|         2|   14|\n",
      "|    Setosa|         1|   50|\n",
      "| Virginica|         0|   36|\n",
      "+----------+----------+-----+\n",
      "\n"
     ]
    },
    {
     "name": "stderr",
     "output_type": "stream",
     "text": [
      "                                                                                \r"
     ]
    }
   ],
   "source": [
    "predictions.groupBy(\"variety\",\"prediction\").count().show()"
   ]
  }
 ],
 "metadata": {
  "kernelspec": {
   "display_name": "Python 3.10.4 64-bit",
   "language": "python",
   "name": "python3"
  },
  "language_info": {
   "codemirror_mode": {
    "name": "ipython",
    "version": 3
   },
   "file_extension": ".py",
   "mimetype": "text/x-python",
   "name": "python",
   "nbconvert_exporter": "python",
   "pygments_lexer": "ipython3",
   "version": "3.10.4"
  },
  "orig_nbformat": 4,
  "vscode": {
   "interpreter": {
    "hash": "916dbcbb3f70747c44a77c7bcd40155683ae19c65e1c03b4aa3499c5328201f1"
   }
  }
 },
 "nbformat": 4,
 "nbformat_minor": 2
}
